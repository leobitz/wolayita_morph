{
 "cells": [
  {
   "cell_type": "code",
   "execution_count": 1,
   "metadata": {},
   "outputs": [],
   "source": [
    "import numpy as np\n",
    "from text_processor2 import *\n"
   ]
  },
  {
   "cell_type": "code",
   "execution_count": 2,
   "metadata": {},
   "outputs": [],
   "source": [
    "\n",
    "class DataGen:\n",
    "\n",
    "    def __init__(self, *args, **kwargs):\n",
    "        self.roots, self.words, self.featArray, mr, mw = get_feature_array()\n",
    "        self.n_chars = len(char2int)\n",
    "        self.max_root_len = mr\n",
    "        self.max_output_len = mw\n",
    "        self.word_feat_len = len(self.featArray[0])\n",
    "\n",
    "    def gen2(self, batch_size=100, n_batches=-1, trainset=True):\n",
    "        max_batch, min_batch = 0, 0\n",
    "        if trainset == True:\n",
    "            max_batch = int(len(self.words) * .7) / batch_size\n",
    "            min_batch = 0\n",
    "        else:\n",
    "            max_batch = len(self.words)/ batch_size\n",
    "            min_batch = int(len(self.words) * .7 / batch_size)\n",
    "        \n",
    "        total_batchs = max_batch\n",
    "        batch = min_batch\n",
    "        while True:\n",
    "            rootX, target_inX, featX, y = list(), list(), list(), list()\n",
    "            for i in range(batch * batch_size, (1 + batch) * batch_size):\n",
    "                root = self.roots[i]\n",
    "                word = self.words[i]\n",
    "                word_feature = self.featArray[i]\n",
    "                root_encoded, target_encoded, target_in_encoded = self.encond_input_output(root, word)\n",
    "                rootX.append(root_encoded.reshape((root_encoded.shape[0], root_encoded.shape[1], 1)))\n",
    "                target_inX.append(target_in_encoded)\n",
    "                featX.append(word_feature)\n",
    "                y.append(target_encoded)\n",
    "            yield [np.array(rootX), np.array(target_inX), np.array(featX)], np.array(y)\n",
    "            batch += 1\n",
    "            if batch == total_batchs or batch == n_batches:\n",
    "                batch = min_batch\n",
    "\n",
    "\n",
    "    def word2vec(self, word, max_chars):\n",
    "        vec = np.zeros((max_chars, self.n_chars))\n",
    "        for i in range(len(word)):\n",
    "            vec[i][char2int[word[i]]] = 1\n",
    "        vec[len(word):, 1] = 1\n",
    "        return vec\n",
    "    \n",
    "    def char2vec(self, char):\n",
    "        vec = np.zeros((self.n_chars,))\n",
    "        vec[char2int[char]] = 1\n",
    "        return vec\n",
    "    \n",
    "    def encond_input_output(self, root_word, target_word):\n",
    "        root_word = list(root_word)\n",
    "        target_word = list(target_word)\n",
    "#         target_word.reverse()\n",
    "        target_word_in = [\" \"] + target_word[:-1]\n",
    "        root_encoded = self.word2vec(root_word, self.max_root_len)\n",
    "        target_encoded = self.word2vec(target_word, self.max_output_len)\n",
    "        target_in_encoded = self.word2vec(target_word_in, self.max_output_len)\n",
    "        return root_encoded, target_encoded, target_in_encoded\n",
    "\n",
    "        \n",
    "    def one_hot_decode(self, vec):\n",
    "        return [int2char[np.argmax(v)] for v in vec]\n",
    "    \n",
    "    def word_sim(self, word1, word2):\n",
    "        c = 0\n",
    "        for i in range(len(word1)):\n",
    "            if word1[i] == word2[i]:\n",
    "                c += 1\n",
    "        return c/len(word1)\n",
    "            \n",
    "\n",
    "    def get_dataset(self, n=100):\n",
    "        j = 0\n",
    "        rootX, target_inX, featX, y = list(), list(), list(), list()\n",
    "        for i in range(len(self.words)):\n",
    "            root = self.roots[i]\n",
    "            word = self.words[i]\n",
    "            word_feature = self.featArray[i]\n",
    "            root_encoded, target_encoded, target_in_encoded = self.encond_input_output(root, word)\n",
    "            rootX.append(root_encoded)\n",
    "            target_inX.append(target_in_encoded)\n",
    "            featX.append(word_feature)\n",
    "            y.append(target_encoded)\n",
    "            j += 1\n",
    "            if j == n: break\n",
    "        return np.array(rootX), np.array(target_inX), np.array(featX), np.array(y)\n",
    "            \n",
    "    def get_dataset2(self, n=100):\n",
    "        j = 0\n",
    "        rootX, target_inX, featX, y = list(), list(), list(), list()\n",
    "        for i in range(len(self.words)):\n",
    "            root = self.roots[i]\n",
    "            word = self.words[i]\n",
    "            word_feature = self.featArray[i]\n",
    "            root_encoded, target_encoded, target_in_encoded = self.encond_input_output(root, word)\n",
    "            rootX.append(root_encoded)\n",
    "            target_inX.append(target_in_encoded)\n",
    "            featX.append(word_feature)\n",
    "            y.append(target_encoded)\n",
    "            j += 1\n",
    "            if j == n: break\n",
    "        return np.array(rootX), np.array(target_inX), np.array(featX), np.array(y)\n",
    "        "
   ]
  },
  {
   "cell_type": "code",
   "execution_count": 3,
   "metadata": {},
   "outputs": [],
   "source": [
    "# dg2 = DataGen()"
   ]
  },
  {
   "cell_type": "code",
   "execution_count": 4,
   "metadata": {},
   "outputs": [],
   "source": [
    "# print(dg2.word_sim('leofii', 'leosgg')) \n",
    "# print(int2char)"
   ]
  },
  {
   "cell_type": "code",
   "execution_count": 5,
   "metadata": {},
   "outputs": [],
   "source": [
    "# gen = dg2.gen(batch_size=100, n_batches=10)\n",
    "# for i in range(200):\n",
    "#     X1, X2, X3, y = next(gen)\n",
    "# #     print(i, X1[0][0])\n",
    "    "
   ]
  },
  {
   "cell_type": "code",
   "execution_count": 6,
   "metadata": {},
   "outputs": [],
   "source": [
    "# dg2.word2vec(' leo', 6)"
   ]
  },
  {
   "cell_type": "code",
   "execution_count": null,
   "metadata": {},
   "outputs": [],
   "source": []
  },
  {
   "cell_type": "code",
   "execution_count": null,
   "metadata": {},
   "outputs": [],
   "source": []
  },
  {
   "cell_type": "code",
   "execution_count": null,
   "metadata": {},
   "outputs": [],
   "source": []
  },
  {
   "cell_type": "code",
   "execution_count": null,
   "metadata": {},
   "outputs": [],
   "source": []
  }
 ],
 "metadata": {
  "kernelspec": {
   "display_name": "Python 3",
   "language": "python",
   "name": "python3"
  },
  "language_info": {
   "codemirror_mode": {
    "name": "ipython",
    "version": 3
   },
   "file_extension": ".py",
   "mimetype": "text/x-python",
   "name": "python",
   "nbconvert_exporter": "python",
   "pygments_lexer": "ipython3",
   "version": "3.6.5"
  }
 },
 "nbformat": 4,
 "nbformat_minor": 2
}
